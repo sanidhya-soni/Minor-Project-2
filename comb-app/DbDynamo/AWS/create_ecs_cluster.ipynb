{
 "cells": [
  {
   "attachments": {},
   "cell_type": "markdown",
   "metadata": {},
   "source": [
    "Import Libraries\n"
   ]
  },
  {
   "cell_type": "code",
   "execution_count": 1,
   "metadata": {},
   "outputs": [],
   "source": [
    "import boto3 as b3\n",
    "client = b3.client('ecs')\n",
    "clusterName = 'Sani-Abhay'\n"
   ]
  },
  {
   "attachments": {},
   "cell_type": "markdown",
   "metadata": {},
   "source": [
    "Create New Cluster\n"
   ]
  },
  {
   "cell_type": "code",
   "execution_count": 2,
   "metadata": {},
   "outputs": [],
   "source": [
    "response = client.create_cluster(\n",
    "    clusterName=clusterName\n",
    ")\n"
   ]
  },
  {
   "attachments": {},
   "cell_type": "markdown",
   "metadata": {},
   "source": [
    "Configure Task to be RUN\n"
   ]
  },
  {
   "cell_type": "code",
   "execution_count": 7,
   "metadata": {},
   "outputs": [],
   "source": [
    "task_definition = 'arn:aws:ecs:ap-south-1:397102708699:task-definition/Back-End'\n",
    "desired_tasks = 1\n",
    "security_groups = ['sg-0625b02a97ff4f521']\n",
    "subnets = ['subnet-0c7319761c97959df', 'subnet-0efe0735de21708e9', 'subnet-0755af44328619aaf']\n",
    "\n",
    "run_task = {\n",
    "    'enableECSManagedTags': True,\n",
    "    'taskDefinition': task_definition,\n",
    "    'platformVersion': 'LATEST',\n",
    "    'cluster': clusterName,\n",
    "    'launchType': 'FARGATE',\n",
    "    'count': desired_tasks,\n",
    "\n",
    "    'networkConfiguration': {\n",
    "        'awsvpcConfiguration': {\n",
    "            'subnets': subnets,\n",
    "            'securityGroups': security_groups,\n",
    "            'assignPublicIp': 'ENABLED'\n",
    "        }\n",
    "    },\n",
    "}\n"
   ]
  },
  {
   "attachments": {},
   "cell_type": "markdown",
   "metadata": {},
   "source": [
    "RUN the Configured Task\n"
   ]
  },
  {
   "cell_type": "code",
   "execution_count": 8,
   "metadata": {},
   "outputs": [],
   "source": [
    "response = client.run_task(\n",
    "    cluster=run_task['cluster'],\n",
    "    count=run_task['count'],\n",
    "    launchType=run_task['launchType'],\n",
    "    platformVersion=run_task['platformVersion'],\n",
    "    taskDefinition=run_task['taskDefinition'],\n",
    "    networkConfiguration=run_task['networkConfiguration'],\n",
    "    enableECSManagedTags=run_task['enableECSManagedTags'],\n",
    ")\n"
   ]
  },
  {
   "attachments": {},
   "cell_type": "markdown",
   "metadata": {},
   "source": [
    "Get All Running Tasks"
   ]
  },
  {
   "cell_type": "code",
   "execution_count": 9,
   "metadata": {},
   "outputs": [
    {
     "name": "stdout",
     "output_type": "stream",
     "text": [
      "{'taskArns': ['arn:aws:ecs:ap-south-1:397102708699:task/Sani-Abhay/96a7ad2011de44f1aabea393c8f59fab'], 'ResponseMetadata': {'RequestId': 'c9c50c38-1357-42ce-9d13-3d60dd4dd0c8', 'HTTPStatusCode': 200, 'HTTPHeaders': {'x-amzn-requestid': 'c9c50c38-1357-42ce-9d13-3d60dd4dd0c8', 'content-type': 'application/x-amz-json-1.1', 'content-length': '101', 'date': 'Mon, 01 May 2023 21:11:28 GMT'}, 'RetryAttempts': 0}}\n"
     ]
    }
   ],
   "source": [
    "tasks_list = client.list_tasks(\n",
    "    cluster=clusterName,\n",
    "    launchType='FARGATE'\n",
    ")\n",
    "print(tasks_list)"
   ]
  },
  {
   "attachments": {},
   "cell_type": "markdown",
   "metadata": {},
   "source": [
    "Stop all Running Tasks\n"
   ]
  },
  {
   "cell_type": "code",
   "execution_count": 10,
   "metadata": {},
   "outputs": [
    {
     "name": "stdout",
     "output_type": "stream",
     "text": [
      "arn:aws:ecs:ap-south-1:397102708699:task/Sani-Abhay/96a7ad2011de44f1aabea393c8f59fab\n"
     ]
    }
   ],
   "source": [
    "for i in tasks_list['taskArns']:\n",
    "    client.stop_task(\n",
    "        cluster=clusterName,\n",
    "        task=i\n",
    "    )\n",
    "    print(i)\n"
   ]
  },
  {
   "attachments": {},
   "cell_type": "markdown",
   "metadata": {},
   "source": [
    "Delete Cluster\n"
   ]
  },
  {
   "cell_type": "code",
   "execution_count": null,
   "metadata": {},
   "outputs": [],
   "source": [
    "response = client.delete_cluster(\n",
    "    cluster=clusterName\n",
    ")\n"
   ]
  }
 ],
 "metadata": {
  "kernelspec": {
   "display_name": "Python 3",
   "language": "python",
   "name": "python3"
  },
  "language_info": {
   "codemirror_mode": {
    "name": "ipython",
    "version": 3
   },
   "file_extension": ".py",
   "mimetype": "text/x-python",
   "name": "python",
   "nbconvert_exporter": "python",
   "pygments_lexer": "ipython3",
   "version": "3.10.6"
  },
  "orig_nbformat": 4
 },
 "nbformat": 4,
 "nbformat_minor": 2
}
