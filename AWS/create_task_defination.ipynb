{
 "cells": [
  {
   "attachments": {},
   "cell_type": "markdown",
   "metadata": {},
   "source": [
    "Import Libraries\n"
   ]
  },
  {
   "cell_type": "code",
   "execution_count": 1,
   "metadata": {},
   "outputs": [],
   "source": [
    "import boto3 as b3\n",
    "client = b3.client('ecs')\n"
   ]
  },
  {
   "attachments": {},
   "cell_type": "markdown",
   "metadata": {},
   "source": [
    "Configure New Task Defination\n"
   ]
  },
  {
   "cell_type": "code",
   "execution_count": 2,
   "metadata": {},
   "outputs": [],
   "source": [
    "task_defination_family = 'Sani-Login'\n",
    "container_name = 'Sani-Login'\n",
    "protocol = 'tcp'\n",
    "container_port = 80\n",
    "app_protocol = 'http'\n",
    "network_mode = 'awsvpc'\n",
    "image_uri = '397102708699.dkr.ecr.ap-south-1.amazonaws.com/upes-colab:login-pg'\n",
    "execution_role_arn = 'arn:aws:iam::397102708699:role/ecsTaskExecutionRole'\n",
    "port_name = 'sani-port'\n",
    "\n",
    "task_definition = {\n",
    "    'family': task_defination_family,\n",
    "    'containerDefinitions': [\n",
    "        {\n",
    "            'name': container_name,\n",
    "            'image': image_uri,\n",
    "            'portMappings': [\n",
    "                {\n",
    "                    'containerPort': container_port,\n",
    "                    'hostPort': container_port,\n",
    "                    'protocol': protocol,\n",
    "                    'name': port_name,\n",
    "                    'appProtocol': app_protocol\n",
    "                },\n",
    "            ],\n",
    "        }\n",
    "    ],\n",
    "    'requiresCompatibilities': [\n",
    "        'FARGATE',\n",
    "    ],\n",
    "\n",
    "    'runtimePlatform': {\n",
    "        'cpuArchitecture': 'X86_64',\n",
    "        'operatingSystemFamily': 'LINUX'\n",
    "    },\n",
    "\n",
    "    'cpu': '256',\n",
    "    'memory': '512'\n",
    "}\n"
   ]
  },
  {
   "attachments": {},
   "cell_type": "markdown",
   "metadata": {},
   "source": [
    "Create New Task Defination using info provided above\n"
   ]
  },
  {
   "cell_type": "code",
   "execution_count": 3,
   "metadata": {},
   "outputs": [],
   "source": [
    "response = client.register_task_definition(\n",
    "    networkMode=network_mode,\n",
    "    family=task_definition['family'],\n",
    "    containerDefinitions=task_definition['containerDefinitions'],\n",
    "    requiresCompatibilities=task_definition['requiresCompatibilities'],\n",
    "    runtimePlatform=task_definition['runtimePlatform'],\n",
    "    cpu=task_definition['cpu'],\n",
    "    memory=task_definition['memory'],\n",
    "    executionRoleArn=execution_role_arn\n",
    ")\n"
   ]
  },
  {
   "attachments": {},
   "cell_type": "markdown",
   "metadata": {},
   "source": [
    "Deregister Task Defination\n"
   ]
  },
  {
   "cell_type": "code",
   "execution_count": 4,
   "metadata": {},
   "outputs": [],
   "source": [
    "# active_task_def = client.list_task_definitions(\n",
    "#     familyPrefix = task_defination_family,\n",
    "#     status='ACTIVE'\n",
    "# )\n",
    "# active_task_def\n",
    "# for i in active_task_def:\n",
    "\n",
    "res = client.describe_task_definition(\n",
    "    taskDefinition=task_defination_family\n",
    ")\n",
    "\n",
    "result = res['taskDefinition']['revision']\n",
    "\n",
    "res = client.deregister_task_definition(\n",
    "    taskDefinition=(task_defination_family + ':' + str(result))\n",
    ")\n"
   ]
  },
  {
   "attachments": {},
   "cell_type": "markdown",
   "metadata": {},
   "source": [
    "Delete Inactive Task Definations\n"
   ]
  },
  {
   "cell_type": "code",
   "execution_count": 5,
   "metadata": {},
   "outputs": [],
   "source": [
    "inactive_task_def = client.list_task_definitions(\n",
    "    familyPrefix=task_defination_family,\n",
    "    status='INACTIVE'\n",
    ")\n",
    "inactive_task_def\n",
    "\n",
    "res = client.delete_task_definitions(\n",
    "    taskDefinitions=(inactive_task_def['taskDefinitionArns'])\n",
    ")\n"
   ]
  }
 ],
 "metadata": {
  "kernelspec": {
   "display_name": "Python 3",
   "language": "python",
   "name": "python3"
  },
  "language_info": {
   "codemirror_mode": {
    "name": "ipython",
    "version": 3
   },
   "file_extension": ".py",
   "mimetype": "text/x-python",
   "name": "python",
   "nbconvert_exporter": "python",
   "pygments_lexer": "ipython3",
   "version": "3.10.6"
  },
  "orig_nbformat": 4,
  "vscode": {
   "interpreter": {
    "hash": "fc5703fc2f6ab79c04322b32bfd49f57d11159883e2ac970eba3ef9879861e56"
   }
  }
 },
 "nbformat": 4,
 "nbformat_minor": 2
}
