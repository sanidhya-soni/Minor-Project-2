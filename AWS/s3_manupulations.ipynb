{
 "cells": [
  {
   "cell_type": "code",
   "execution_count": null,
   "metadata": {},
   "outputs": [],
   "source": [
    "import boto3 as b3\n",
    "client = b3.client('s3')\n",
    "s3_name = input('Enter name of bucket: ')\n",
    "owner = '397102708699'\n",
    "print(f'Bucket Name: {s3_name}')\n"
   ]
  },
  {
   "attachments": {},
   "cell_type": "markdown",
   "metadata": {},
   "source": [
    "Create Bucket\n"
   ]
  },
  {
   "cell_type": "code",
   "execution_count": null,
   "metadata": {},
   "outputs": [],
   "source": [
    "response = client.create_bucket(\n",
    "    ACL='public-read',\n",
    "    Bucket=s3_name,\n",
    "    CreateBucketConfiguration={\n",
    "        'LocationConstraint': 'ap-south-1'\n",
    "    },\n",
    "    ObjectLockEnabledForBucket=False,\n",
    "    ObjectOwnership='BucketOwnerPreferred'\n",
    ")\n",
    "\n",
    "response = client.put_public_access_block(\n",
    "    Bucket=s3_name,\n",
    "    PublicAccessBlockConfiguration={\n",
    "        'BlockPublicAcls': False,\n",
    "        'IgnorePublicAcls': False,\n",
    "        'BlockPublicPolicy': False,\n",
    "        'RestrictPublicBuckets': False\n",
    "    },\n",
    "    ExpectedBucketOwner=owner\n",
    ")\n"
   ]
  },
  {
   "attachments": {},
   "cell_type": "markdown",
   "metadata": {},
   "source": [
    "Add CORS to Bucket\n"
   ]
  },
  {
   "cell_type": "code",
   "execution_count": null,
   "metadata": {},
   "outputs": [],
   "source": [
    "CORSConfig = {\n",
    "    'CORSRules': [\n",
    "        {\n",
    "            \"AllowedHeaders\": [],\n",
    "            \"AllowedMethods\": [\n",
    "                \"GET\"\n",
    "            ],\n",
    "            \"AllowedOrigins\": [\n",
    "                \"*\"\n",
    "            ],\n",
    "            \"ExposeHeaders\": []\n",
    "        }\n",
    "    ]\n",
    "}\n",
    "response = client.put_bucket_cors(Bucket=s3_name, CORSConfiguration=CORSConfig, ExpectedBucketOwner=owner)\n"
   ]
  },
  {
   "attachments": {},
   "cell_type": "markdown",
   "metadata": {},
   "source": [
    "Upload Files"
   ]
  },
  {
   "cell_type": "code",
   "execution_count": null,
   "metadata": {},
   "outputs": [],
   "source": [
    "client.upload_file(Filename='index.html', Bucket=s3_name, Key='index.html')\n"
   ]
  },
  {
   "attachments": {},
   "cell_type": "markdown",
   "metadata": {},
   "source": [
    "Add Static Web Hosting Config"
   ]
  },
  {
   "cell_type": "code",
   "execution_count": null,
   "metadata": {},
   "outputs": [],
   "source": [
    "website_configuration = {\n",
    "    'ErrorDocument': {'Key': 'error.html'},\n",
    "    'IndexDocument': {'Suffix': 'index.html'}\n",
    "}\n",
    "response = client.put_bucket_website(\n",
    "    Bucket=s3_name,\n",
    "    WebsiteConfiguration=website_configuration\n",
    ")\n"
   ]
  },
  {
   "attachments": {},
   "cell_type": "markdown",
   "metadata": {},
   "source": [
    "Make Object Public using ACL"
   ]
  },
  {
   "cell_type": "code",
   "execution_count": null,
   "metadata": {},
   "outputs": [],
   "source": [
    "response = client.put_object_acl(\n",
    "    ACL='public-read',\n",
    "    Bucket=s3_name,\n",
    "    Key='index.html'\n",
    ")\n",
    "response\n"
   ]
  },
  {
   "attachments": {},
   "cell_type": "markdown",
   "metadata": {},
   "source": [
    "Delete CORS"
   ]
  },
  {
   "cell_type": "code",
   "execution_count": null,
   "metadata": {},
   "outputs": [],
   "source": [
    "response = client.delete_bucket_cors(Bucket=s3_name, ExpectedBucketOwner=owner)"
   ]
  },
  {
   "attachments": {},
   "cell_type": "markdown",
   "metadata": {},
   "source": [
    "List Objects in Bucket"
   ]
  },
  {
   "cell_type": "code",
   "execution_count": null,
   "metadata": {},
   "outputs": [],
   "source": [
    "# objects_list = client.list_objects(\n",
    "#     Bucket=s3_name,\n",
    "#     ExpectedBucketOwner=owner\n",
    "# )\n",
    "# objects_list\n",
    "\n",
    "website_configuration = client.get_bucket_website(Bucket=s3_name, ExpectedBucketOwner=owner)\n",
    "endpoint_url = website_configuration['Endpoint']\n",
    "print(endpoint_url)\n",
    "\n",
    "\n",
    "# response = client.get_bucket_website(\n",
    "#     Bucket=s3_name,\n",
    "#     ExpectedBucketOwner=owner\n",
    "# )\n",
    "# print(response)"
   ]
  },
  {
   "attachments": {},
   "cell_type": "markdown",
   "metadata": {},
   "source": [
    "Delete Objects in Bucket"
   ]
  },
  {
   "cell_type": "code",
   "execution_count": null,
   "metadata": {},
   "outputs": [],
   "source": [
    "response = client.delete_objects(\n",
    "    Bucket=s3_name,\n",
    "    Delete={\n",
    "        'Objects': [\n",
    "            {\n",
    "                'Key': 'login/'\n",
    "            },\n",
    "        ],\n",
    "        'Quiet': True\n",
    "    },\n",
    "    ExpectedBucketOwner=owner\n",
    ")"
   ]
  },
  {
   "attachments": {},
   "cell_type": "markdown",
   "metadata": {},
   "source": [
    "Delete Bucket\n"
   ]
  },
  {
   "cell_type": "code",
   "execution_count": null,
   "metadata": {},
   "outputs": [],
   "source": [
    "response = client.delete_bucket(\n",
    "    Bucket=s3_name,\n",
    "    ExpectedBucketOwner=owner\n",
    ")\n"
   ]
  }
 ],
 "metadata": {
  "kernelspec": {
   "display_name": "Python 3",
   "language": "python",
   "name": "python3"
  },
  "language_info": {
   "codemirror_mode": {
    "name": "ipython",
    "version": 3
   },
   "file_extension": ".py",
   "mimetype": "text/x-python",
   "name": "python",
   "nbconvert_exporter": "python",
   "pygments_lexer": "ipython3",
   "version": "3.10.6"
  },
  "orig_nbformat": 4
 },
 "nbformat": 4,
 "nbformat_minor": 2
}
