{
 "cells": [
  {
   "attachments": {},
   "cell_type": "markdown",
   "metadata": {},
   "source": [
    "Import Libraries\n"
   ]
  },
  {
   "cell_type": "code",
   "execution_count": 1,
   "metadata": {},
   "outputs": [],
   "source": [
    "import boto3 as b3\n",
    "client = b3.client('ecs')\n",
    "clusterName = 'Sani-Abhay'\n"
   ]
  },
  {
   "attachments": {},
   "cell_type": "markdown",
   "metadata": {},
   "source": [
    "Create New Cluster\n"
   ]
  },
  {
   "cell_type": "code",
   "execution_count": 2,
   "metadata": {},
   "outputs": [],
   "source": [
    "response = client.create_cluster(\n",
    "    clusterName=clusterName\n",
    ")\n"
   ]
  },
  {
   "attachments": {},
   "cell_type": "markdown",
   "metadata": {},
   "source": [
    "Configure Task to be RUN\n"
   ]
  },
  {
   "cell_type": "code",
   "execution_count": 7,
   "metadata": {},
   "outputs": [],
   "source": [
    "task_definition = 'arn:aws:ecs:ap-south-1:397102708699:task-definition/Back-End'\n",
    "desired_tasks = 1\n",
    "security_groups = ['sg-0625b02a97ff4f521']\n",
    "subnets = ['subnet-0c7319761c97959df', 'subnet-0efe0735de21708e9', 'subnet-0755af44328619aaf']\n",
    "\n",
    "run_task = {\n",
    "    'enableECSManagedTags': True,\n",
    "    'taskDefinition': task_definition,\n",
    "    'platformVersion': 'LATEST',\n",
    "    'cluster': clusterName,\n",
    "    'launchType': 'FARGATE',\n",
    "    'count': desired_tasks,\n",
    "\n",
    "    'networkConfiguration': {\n",
    "        'awsvpcConfiguration': {\n",
    "            'subnets': subnets,\n",
    "            'securityGroups': security_groups,\n",
    "            'assignPublicIp': 'ENABLED'\n",
    "        }\n",
    "    },\n",
    "}\n"
   ]
  },
  {
   "attachments": {},
   "cell_type": "markdown",
   "metadata": {},
   "source": [
    "RUN the Configured Task\n"
   ]
  },
  {
   "cell_type": "code",
   "execution_count": 8,
   "metadata": {},
   "outputs": [],
   "source": [
    "response = client.run_task(\n",
    "    cluster=run_task['cluster'],\n",
    "    count=run_task['count'],\n",
    "    launchType=run_task['launchType'],\n",
    "    platformVersion=run_task['platformVersion'],\n",
    "    taskDefinition=run_task['taskDefinition'],\n",
    "    networkConfiguration=run_task['networkConfiguration'],\n",
    "    enableECSManagedTags=run_task['enableECSManagedTags'],\n",
    ")\n"
   ]
  },
  {
   "attachments": {},
   "cell_type": "markdown",
   "metadata": {},
   "source": [
    "Get All Running Tasks"
   ]
  },
  {
   "cell_type": "code",
   "execution_count": 9,
   "metadata": {},
   "outputs": [
    {
     "name": "stdout",
     "output_type": "stream",
     "text": [
      "{'tasks': [{'attachments': [{'id': '1eeea5d4-9e23-47be-bb4a-71d281f137a9', 'type': 'ElasticNetworkInterface', 'status': 'PRECREATED', 'details': [{'name': 'subnetId', 'value': 'subnet-0efe0735de21708e9'}]}], 'attributes': [{'name': 'ecs.cpu-architecture', 'value': 'x86_64'}], 'availabilityZone': 'ap-south-1b', 'clusterArn': 'arn:aws:ecs:ap-south-1:397102708699:cluster/Sani-Abhay', 'containers': [{'containerArn': 'arn:aws:ecs:ap-south-1:397102708699:container/Sani-Abhay/a612c7b1a99140f6b4d7602c3395a332/4b485c8d-6e50-4650-8c8b-2889060d0fe4', 'taskArn': 'arn:aws:ecs:ap-south-1:397102708699:task/Sani-Abhay/a612c7b1a99140f6b4d7602c3395a332', 'name': 'Back-End', 'image': '397102708699.dkr.ecr.ap-south-1.amazonaws.com/upes-colab:back-end', 'lastStatus': 'PENDING', 'networkInterfaces': [], 'cpu': '0'}], 'cpu': '256', 'createdAt': datetime.datetime(2023, 4, 19, 0, 11, 59, 853000, tzinfo=tzlocal()), 'desiredStatus': 'RUNNING', 'enableExecuteCommand': False, 'group': 'family:Back-End', 'lastStatus': 'PROVISIONING', 'launchType': 'FARGATE', 'memory': '512', 'overrides': {'containerOverrides': [{'name': 'Back-End'}], 'inferenceAcceleratorOverrides': []}, 'platformVersion': '1.4.0', 'platformFamily': 'Linux', 'tags': [{'key': 'aws:ecs:clusterName', 'value': 'Sani-Abhay'}], 'taskArn': 'arn:aws:ecs:ap-south-1:397102708699:task/Sani-Abhay/a612c7b1a99140f6b4d7602c3395a332', 'taskDefinitionArn': 'arn:aws:ecs:ap-south-1:397102708699:task-definition/Back-End:2', 'version': 1, 'ephemeralStorage': {'sizeInGiB': 20}}], 'failures': [], 'ResponseMetadata': {'RequestId': '35cb2aef-b972-4302-9e64-81eae6d80571', 'HTTPStatusCode': 200, 'HTTPHeaders': {'x-amzn-requestid': '35cb2aef-b972-4302-9e64-81eae6d80571', 'content-type': 'application/x-amz-json-1.1', 'content-length': '1407', 'date': 'Tue, 18 Apr 2023 18:41:59 GMT'}, 'RetryAttempts': 0}}\n"
     ]
    }
   ],
   "source": [
    "tasks_list = client.list_tasks(\n",
    "    cluster=clusterName,\n",
    "    launchType='FARGATE'\n",
    ")\n",
    "print(response)"
   ]
  },
  {
   "attachments": {},
   "cell_type": "markdown",
   "metadata": {},
   "source": [
    "Stop all Running Tasks\n"
   ]
  },
  {
   "cell_type": "code",
   "execution_count": 10,
   "metadata": {},
   "outputs": [
    {
     "name": "stdout",
     "output_type": "stream",
     "text": [
      "arn:aws:ecs:ap-south-1:397102708699:task/Sani-Abhay/a612c7b1a99140f6b4d7602c3395a332\n"
     ]
    }
   ],
   "source": [
    "for i in tasks_list['taskArns']:\n",
    "    client.stop_task(\n",
    "        cluster=clusterName,\n",
    "        task=i\n",
    "    )\n",
    "    print(i)\n"
   ]
  },
  {
   "attachments": {},
   "cell_type": "markdown",
   "metadata": {},
   "source": [
    "Delete Cluster\n"
   ]
  },
  {
   "cell_type": "code",
   "execution_count": null,
   "metadata": {},
   "outputs": [],
   "source": [
    "response = client.delete_cluster(\n",
    "    cluster=clusterName\n",
    ")\n"
   ]
  }
 ],
 "metadata": {
  "kernelspec": {
   "display_name": "Python 3",
   "language": "python",
   "name": "python3"
  },
  "language_info": {
   "codemirror_mode": {
    "name": "ipython",
    "version": 3
   },
   "file_extension": ".py",
   "mimetype": "text/x-python",
   "name": "python",
   "nbconvert_exporter": "python",
   "pygments_lexer": "ipython3",
   "version": "3.10.6"
  },
  "orig_nbformat": 4
 },
 "nbformat": 4,
 "nbformat_minor": 2
}
