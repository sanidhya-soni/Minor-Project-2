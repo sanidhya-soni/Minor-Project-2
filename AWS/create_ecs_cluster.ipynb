{
 "cells": [
  {
   "attachments": {},
   "cell_type": "markdown",
   "metadata": {},
   "source": [
    "Import Libraries\n"
   ]
  },
  {
   "cell_type": "code",
   "execution_count": null,
   "metadata": {},
   "outputs": [],
   "source": [
    "import boto3 as b3\n",
    "client = b3.client('ecs')\n",
    "clusterName = 'Sani-Abhay'\n"
   ]
  },
  {
   "attachments": {},
   "cell_type": "markdown",
   "metadata": {},
   "source": [
    "Create New Cluster\n"
   ]
  },
  {
   "cell_type": "code",
   "execution_count": null,
   "metadata": {},
   "outputs": [],
   "source": [
    "response = client.create_cluster(\n",
    "    clusterName=clusterName\n",
    ")\n"
   ]
  },
  {
   "attachments": {},
   "cell_type": "markdown",
   "metadata": {},
   "source": [
    "Configure Task to be RUN\n"
   ]
  },
  {
   "cell_type": "code",
   "execution_count": null,
   "metadata": {},
   "outputs": [],
   "source": [
    "task_definition = 'arn:aws:ecs:ap-south-1:682310447536:task-definition/Sani-Login'\n",
    "desired_tasks = 1\n",
    "security_groups = ['sg-09aa7c5c7fbf104b4']\n",
    "subnets = ['subnet-0d74ef94312f84022', 'subnet-01ae0bd56f5fd68af']\n",
    "\n",
    "run_task = {\n",
    "    'enableECSManagedTags': True,\n",
    "    'taskDefinition': task_definition,\n",
    "    'platformVersion': 'LATEST',\n",
    "    'cluster': clusterName,\n",
    "    'launchType': 'FARGATE',\n",
    "    'count': desired_tasks,\n",
    "\n",
    "    'networkConfiguration': {\n",
    "        'awsvpcConfiguration': {\n",
    "            'subnets': subnets,\n",
    "            'securityGroups': security_groups,\n",
    "            'assignPublicIp': 'ENABLED'\n",
    "        }\n",
    "    },\n",
    "}\n"
   ]
  },
  {
   "attachments": {},
   "cell_type": "markdown",
   "metadata": {},
   "source": [
    "RUN the Configured Task\n"
   ]
  },
  {
   "cell_type": "code",
   "execution_count": null,
   "metadata": {},
   "outputs": [],
   "source": [
    "response = client.run_task(\n",
    "    cluster=run_task['cluster'],\n",
    "    count=run_task['count'],\n",
    "    launchType=run_task['launchType'],\n",
    "    platformVersion=run_task['platformVersion'],\n",
    "    taskDefinition=run_task['taskDefinition'],\n",
    "    networkConfiguration=run_task['networkConfiguration'],\n",
    "    enableECSManagedTags=run_task['enableECSManagedTags'],\n",
    ")\n"
   ]
  },
  {
   "attachments": {},
   "cell_type": "markdown",
   "metadata": {},
   "source": [
    "Get All Running Tasks"
   ]
  },
  {
   "cell_type": "code",
   "execution_count": null,
   "metadata": {},
   "outputs": [],
   "source": [
    "tasks_list = client.list_tasks(\n",
    "    cluster=clusterName,\n",
    "    launchType='FARGATE'\n",
    ")\n",
    "print(response)"
   ]
  },
  {
   "attachments": {},
   "cell_type": "markdown",
   "metadata": {},
   "source": [
    "Stop all Running Tasks\n"
   ]
  },
  {
   "cell_type": "code",
   "execution_count": null,
   "metadata": {},
   "outputs": [],
   "source": [
    "for i in tasks_list['taskArns']:\n",
    "    client.stop_task(\n",
    "        cluster=clusterName,\n",
    "        task=i\n",
    "    )\n",
    "    print(i)\n"
   ]
  },
  {
   "attachments": {},
   "cell_type": "markdown",
   "metadata": {},
   "source": [
    "Delete Cluster\n"
   ]
  },
  {
   "cell_type": "code",
   "execution_count": null,
   "metadata": {},
   "outputs": [],
   "source": [
    "response = client.delete_cluster(\n",
    "    cluster=clusterName\n",
    ")\n"
   ]
  }
 ],
 "metadata": {
  "kernelspec": {
   "display_name": "Python 3",
   "language": "python",
   "name": "python3"
  },
  "language_info": {
   "codemirror_mode": {
    "name": "ipython",
    "version": 3
   },
   "file_extension": ".py",
   "mimetype": "text/x-python",
   "name": "python",
   "nbconvert_exporter": "python",
   "pygments_lexer": "ipython3",
   "version": "3.11.2"
  },
  "orig_nbformat": 4
 },
 "nbformat": 4,
 "nbformat_minor": 2
}
