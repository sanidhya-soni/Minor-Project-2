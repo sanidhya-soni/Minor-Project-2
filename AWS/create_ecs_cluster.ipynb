{
 "cells": [
  {
   "cell_type": "code",
   "execution_count": 35,
   "metadata": {},
   "outputs": [],
   "source": [
    "import boto3 as b3\n",
    "client = b3.client('ecs')\n",
    "clusterName = 'Sani-Abhay'\n"
   ]
  },
  {
   "cell_type": "code",
   "execution_count": 42,
   "metadata": {},
   "outputs": [],
   "source": [
    "response = client.create_cluster(\n",
    "    clusterName = clusterName\n",
    ")"
   ]
  },
  {
   "cell_type": "code",
   "execution_count": 38,
   "metadata": {},
   "outputs": [
    {
     "name": "stdout",
     "output_type": "stream",
     "text": [
      "{'cluster': {'clusterArn': 'arn:aws:ecs:ap-south-1:682310447536:cluster/Sani-Abhay', 'clusterName': 'Sani-Abhay', 'status': 'ACTIVE', 'registeredContainerInstancesCount': 0, 'runningTasksCount': 0, 'pendingTasksCount': 0, 'activeServicesCount': 0, 'statistics': [], 'tags': [], 'settings': [{'name': 'containerInsights', 'value': 'disabled'}], 'capacityProviders': [], 'defaultCapacityProviderStrategy': []}, 'ResponseMetadata': {'RequestId': '736ae7b5-10f6-4080-98a2-1890edac7c8e', 'HTTPStatusCode': 200, 'HTTPHeaders': {'x-amzn-requestid': '736ae7b5-10f6-4080-98a2-1890edac7c8e', 'content-type': 'application/x-amz-json-1.1', 'content-length': '381', 'date': 'Thu, 30 Mar 2023 12:04:28 GMT'}, 'RetryAttempts': 0}}\n"
     ]
    }
   ],
   "source": [
    "print(response)"
   ]
  },
  {
   "cell_type": "code",
   "execution_count": 41,
   "metadata": {},
   "outputs": [],
   "source": [
    "response = client.delete_cluster(\n",
    "    cluster = clusterName\n",
    ")"
   ]
  },
  {
   "attachments": {},
   "cell_type": "markdown",
   "metadata": {},
   "source": [
    "Run New Task"
   ]
  },
  {
   "cell_type": "code",
   "execution_count": null,
   "metadata": {},
   "outputs": [],
   "source": [
    "# my_task = client.run_task(\n",
    "#     cluster=clusterName,\n",
    "#     count=1,\n",
    "#     enableECSManagedTags=True|False,\n",
    "#     enableExecuteCommand=True|False,\n",
    "#     group='string',\n",
    "#     launchType='FARGATE',\n",
    "#     networkConfiguration={\n",
    "#         'awsvpcConfiguration': {\n",
    "#             'subnets': [\n",
    "#                 'string',\n",
    "#             ],\n",
    "#             'securityGroups': [\n",
    "#                 'string',\n",
    "#             ],\n",
    "#             'assignPublicIp': 'ENABLED'|'DISABLED'\n",
    "#         }\n",
    "#     },\n",
    "#     overrides={\n",
    "#         'containerOverrides': [\n",
    "#             {\n",
    "#                 'name': 'string',\n",
    "#                 'command': [\n",
    "#                     'string',\n",
    "#                 ],\n",
    "#                 'environment': [\n",
    "#                     {\n",
    "#                         'name': 'string',\n",
    "#                         'value': 'string'\n",
    "#                     },\n",
    "#                 ],\n",
    "#                 'environmentFiles': [\n",
    "#                     {\n",
    "#                         'value': 'string',\n",
    "#                         'type': 's3'\n",
    "#                     },\n",
    "#                 ],\n",
    "#                 'cpu': 123,\n",
    "#                 'memory': 123,\n",
    "#                 'memoryReservation': 123,\n",
    "#                 'resourceRequirements': [\n",
    "#                     {\n",
    "#                         'value': 'string',\n",
    "#                         'type': 'GPU'|'InferenceAccelerator'\n",
    "#                     },\n",
    "#                 ]\n",
    "#             },\n",
    "#         ],\n",
    "#         'cpu': 'string',\n",
    "#         'inferenceAcceleratorOverrides': [\n",
    "#             {\n",
    "#                 'deviceName': 'string',\n",
    "#                 'deviceType': 'string'\n",
    "#             },\n",
    "#         ],\n",
    "#         'executionRoleArn': 'string',\n",
    "#         'memory': 'string',\n",
    "#         'taskRoleArn': 'string',\n",
    "#         'ephemeralStorage': {\n",
    "#             'sizeInGiB': 123\n",
    "#         }\n",
    "#     },\n",
    "#     placementConstraints=[\n",
    "#         {\n",
    "#             'type': 'distinctInstance'|'memberOf',\n",
    "#             'expression': 'string'\n",
    "#         },\n",
    "#     ],\n",
    "#     placementStrategy=[\n",
    "#         {\n",
    "#             'type': 'random'|'spread'|'binpack',\n",
    "#             'field': 'string'\n",
    "#         },\n",
    "#     ],\n",
    "#     platformVersion='string',\n",
    "#     propagateTags='TASK_DEFINITION'|'SERVICE'|'NONE',\n",
    "#     referenceId='string',\n",
    "#     startedBy='string',\n",
    "#     tags=[\n",
    "#         {\n",
    "#             'key': 'string',\n",
    "#             'value': 'string'\n",
    "#         },\n",
    "#     ],\n",
    "#     taskDefinition='string'\n",
    "# )"
   ]
  }
 ],
 "metadata": {
  "kernelspec": {
   "display_name": "Python 3",
   "language": "python",
   "name": "python3"
  },
  "language_info": {
   "codemirror_mode": {
    "name": "ipython",
    "version": 3
   },
   "file_extension": ".py",
   "mimetype": "text/x-python",
   "name": "python",
   "nbconvert_exporter": "python",
   "pygments_lexer": "ipython3",
   "version": "3.11.2"
  },
  "orig_nbformat": 4
 },
 "nbformat": 4,
 "nbformat_minor": 2
}
