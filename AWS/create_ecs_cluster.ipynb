{
 "cells": [
  {
   "attachments": {},
   "cell_type": "markdown",
   "metadata": {},
   "source": [
    "Import Libraries\n"
   ]
  },
  {
   "cell_type": "code",
   "execution_count": 4,
   "metadata": {},
   "outputs": [],
   "source": [
    "import boto3 as b3\n",
    "client = b3.client('ecs')\n",
    "clusterName = 'Sani-Abhay'\n"
   ]
  },
  {
   "attachments": {},
   "cell_type": "markdown",
   "metadata": {},
   "source": [
    "Create New Cluster\n"
   ]
  },
  {
   "cell_type": "code",
   "execution_count": 5,
   "metadata": {},
   "outputs": [],
   "source": [
    "response = client.create_cluster(\n",
    "    clusterName=clusterName\n",
    ")\n"
   ]
  },
  {
   "attachments": {},
   "cell_type": "markdown",
   "metadata": {},
   "source": [
    "Configure Task to be RUN\n"
   ]
  },
  {
   "cell_type": "code",
   "execution_count": 20,
   "metadata": {},
   "outputs": [],
   "source": [
    "task_definition = 'arn:aws:ecs:ap-south-1:397102708699:task-definition/Sani-Login'\n",
    "desired_tasks = 1\n",
    "security_groups = ['sg-0625b02a97ff4f521']\n",
    "subnets = ['subnet-0c7319761c97959df', 'subnet-0efe0735de21708e9', 'subnet-0755af44328619aaf']\n",
    "\n",
    "run_task = {\n",
    "    'enableECSManagedTags': True,\n",
    "    'taskDefinition': task_definition,\n",
    "    'platformVersion': 'LATEST',\n",
    "    'cluster': clusterName,\n",
    "    'launchType': 'FARGATE',\n",
    "    'count': desired_tasks,\n",
    "\n",
    "    'networkConfiguration': {\n",
    "        'awsvpcConfiguration': {\n",
    "            'subnets': subnets,\n",
    "            'securityGroups': security_groups,\n",
    "            'assignPublicIp': 'ENABLED'\n",
    "        }\n",
    "    },\n",
    "}\n"
   ]
  },
  {
   "attachments": {},
   "cell_type": "markdown",
   "metadata": {},
   "source": [
    "RUN the Configured Task\n"
   ]
  },
  {
   "cell_type": "code",
   "execution_count": 27,
   "metadata": {},
   "outputs": [],
   "source": [
    "response = client.run_task(\n",
    "    cluster=run_task['cluster'],\n",
    "    count=run_task['count'],\n",
    "    launchType=run_task['launchType'],\n",
    "    platformVersion=run_task['platformVersion'],\n",
    "    taskDefinition=run_task['taskDefinition'],\n",
    "    networkConfiguration=run_task['networkConfiguration'],\n",
    "    enableECSManagedTags=run_task['enableECSManagedTags'],\n",
    ")\n"
   ]
  },
  {
   "attachments": {},
   "cell_type": "markdown",
   "metadata": {},
   "source": [
    "Get All Running Tasks"
   ]
  },
  {
   "cell_type": "code",
   "execution_count": 28,
   "metadata": {},
   "outputs": [
    {
     "name": "stdout",
     "output_type": "stream",
     "text": [
      "{'tasks': [{'attachments': [{'id': 'f5b8e10a-c325-45ab-ac26-78625d381c6a', 'type': 'ElasticNetworkInterface', 'status': 'PRECREATED', 'details': [{'name': 'subnetId', 'value': 'subnet-0755af44328619aaf'}]}], 'attributes': [{'name': 'ecs.cpu-architecture', 'value': 'x86_64'}], 'availabilityZone': 'ap-south-1a', 'clusterArn': 'arn:aws:ecs:ap-south-1:397102708699:cluster/Sani-Abhay', 'containers': [{'containerArn': 'arn:aws:ecs:ap-south-1:397102708699:container/Sani-Abhay/9bae03352b25484dbc54380f041e2991/ae1d950a-119d-4df2-b6c1-9b7961c143bf', 'taskArn': 'arn:aws:ecs:ap-south-1:397102708699:task/Sani-Abhay/9bae03352b25484dbc54380f041e2991', 'name': 'Sani-Login', 'image': '397102708699.dkr.ecr.ap-south-1.amazonaws.com/upes-colab:login-pg', 'lastStatus': 'PENDING', 'networkInterfaces': [], 'cpu': '0'}], 'cpu': '256', 'createdAt': datetime.datetime(2023, 4, 12, 0, 26, 2, 291000, tzinfo=tzlocal()), 'desiredStatus': 'RUNNING', 'enableExecuteCommand': False, 'group': 'family:Sani-Login', 'lastStatus': 'PROVISIONING', 'launchType': 'FARGATE', 'memory': '512', 'overrides': {'containerOverrides': [{'name': 'Sani-Login'}], 'inferenceAcceleratorOverrides': []}, 'platformVersion': '1.4.0', 'platformFamily': 'Linux', 'tags': [{'key': 'aws:ecs:clusterName', 'value': 'Sani-Abhay'}], 'taskArn': 'arn:aws:ecs:ap-south-1:397102708699:task/Sani-Abhay/9bae03352b25484dbc54380f041e2991', 'taskDefinitionArn': 'arn:aws:ecs:ap-south-1:397102708699:task-definition/Sani-Login:1', 'version': 1, 'ephemeralStorage': {'sizeInGiB': 20}}], 'failures': [], 'ResponseMetadata': {'RequestId': 'cbd7c65d-9e76-40a8-8645-05fe31a857f4', 'HTTPStatusCode': 200, 'HTTPHeaders': {'x-amzn-requestid': 'cbd7c65d-9e76-40a8-8645-05fe31a857f4', 'content-type': 'application/x-amz-json-1.1', 'content-length': '1415', 'date': 'Tue, 11 Apr 2023 18:56:01 GMT'}, 'RetryAttempts': 0}}\n"
     ]
    }
   ],
   "source": [
    "tasks_list = client.list_tasks(\n",
    "    cluster=clusterName,\n",
    "    launchType='FARGATE'\n",
    ")\n",
    "print(response)"
   ]
  },
  {
   "attachments": {},
   "cell_type": "markdown",
   "metadata": {},
   "source": [
    "Stop all Running Tasks\n"
   ]
  },
  {
   "cell_type": "code",
   "execution_count": 29,
   "metadata": {},
   "outputs": [
    {
     "name": "stdout",
     "output_type": "stream",
     "text": [
      "arn:aws:ecs:ap-south-1:397102708699:task/Sani-Abhay/9bae03352b25484dbc54380f041e2991\n"
     ]
    }
   ],
   "source": [
    "for i in tasks_list['taskArns']:\n",
    "    client.stop_task(\n",
    "        cluster=clusterName,\n",
    "        task=i\n",
    "    )\n",
    "    print(i)\n"
   ]
  },
  {
   "attachments": {},
   "cell_type": "markdown",
   "metadata": {},
   "source": [
    "Delete Cluster\n"
   ]
  },
  {
   "cell_type": "code",
   "execution_count": null,
   "metadata": {},
   "outputs": [],
   "source": [
    "response = client.delete_cluster(\n",
    "    cluster=clusterName\n",
    ")\n"
   ]
  }
 ],
 "metadata": {
  "kernelspec": {
   "display_name": "Python 3",
   "language": "python",
   "name": "python3"
  },
  "language_info": {
   "codemirror_mode": {
    "name": "ipython",
    "version": 3
   },
   "file_extension": ".py",
   "mimetype": "text/x-python",
   "name": "python",
   "nbconvert_exporter": "python",
   "pygments_lexer": "ipython3",
   "version": "3.10.6"
  },
  "orig_nbformat": 4
 },
 "nbformat": 4,
 "nbformat_minor": 2
}
